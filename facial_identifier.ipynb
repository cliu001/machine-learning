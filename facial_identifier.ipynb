{
  "nbformat": 4,
  "nbformat_minor": 0,
  "metadata": {
    "colab": {
      "provenance": [],
      "gpuType": "T4",
      "mount_file_id": "1VPV1dBhm5eri7GEa8dKtlqGqXb4M2-Hy",
      "authorship_tag": "ABX9TyN4fzQwZDkT+NN0xz4DDMeG",
      "include_colab_link": true
    },
    "kernelspec": {
      "name": "python3",
      "display_name": "Python 3"
    },
    "language_info": {
      "name": "python"
    },
    "accelerator": "GPU"
  },
  "cells": [
    {
      "cell_type": "markdown",
      "metadata": {
        "id": "view-in-github",
        "colab_type": "text"
      },
      "source": [
        "<a href=\"https://colab.research.google.com/github/cliu001/machine-learning/blob/main/facial_identifier.ipynb\" target=\"_parent\"><img src=\"https://colab.research.google.com/assets/colab-badge.svg\" alt=\"Open In Colab\"/></a>"
      ]
    },
    {
      "cell_type": "code",
      "execution_count": 11,
      "metadata": {
        "colab": {
          "base_uri": "https://localhost:8080/"
        },
        "id": "Rg0VKKgGx7tI",
        "outputId": "51ace7b8-bb42-439b-f7e6-0683b4c2df26"
      },
      "outputs": [
        {
          "output_type": "stream",
          "name": "stdout",
          "text": [
            "Requirement already satisfied: face_recognition in /usr/local/lib/python3.10/dist-packages (1.3.0)\n",
            "Requirement already satisfied: face-recognition-models>=0.3.0 in /usr/local/lib/python3.10/dist-packages (from face_recognition) (0.3.0)\n",
            "Requirement already satisfied: Click>=6.0 in /usr/local/lib/python3.10/dist-packages (from face_recognition) (8.1.7)\n",
            "Requirement already satisfied: dlib>=19.7 in /usr/local/lib/python3.10/dist-packages (from face_recognition) (19.24.2)\n",
            "Requirement already satisfied: numpy in /usr/local/lib/python3.10/dist-packages (from face_recognition) (1.23.5)\n",
            "Requirement already satisfied: Pillow in /usr/local/lib/python3.10/dist-packages (from face_recognition) (9.4.0)\n",
            "Drive already mounted at /content/drive; to attempt to forcibly remount, call drive.mount(\"/content/drive\", force_remount=True).\n",
            "mkdir: cannot create directory ‘known’: File exists\n",
            "mkdir: cannot create directory ‘unknown’: File exists\n",
            "Processing Adam_Scott_0002.jpg\n",
            "Processing Ben_Affleck_0007.jpg\n",
            "Processing Aaron_Peirsol_0003.jpg\n",
            "Processing Zydrunas_Ilgauskas_0001.jpg\n",
            "Processing Adam_Sandler_0004.jpg\n",
            "Identified Images:\n",
            "Adam Scott\n",
            "Ben Affleck\n",
            "Aaron Peirsol\n",
            "Adam Sandler\n",
            "\n",
            "Missing People:\n",
            "Donald Trump\n",
            "Mike Pence\n",
            "\n",
            "Unidentified Images:\n",
            "Zydrunas_Ilgauskas_0001.jpg\n"
          ]
        }
      ],
      "source": [
        "!pip install face_recognition\n",
        "import face_recognition\n",
        "import cv2\n",
        "import numpy as np\n",
        "import os\n",
        "from google.colab.patches import cv2_imshow\n",
        "\n",
        "from google.colab import drive\n",
        "drive.mount('/content/drive')\n",
        "\n",
        "!mkdir known\n",
        "\n",
        "\n",
        "!cp -r /content/drive/MyDrive/known /content/\n",
        "\n",
        "\n",
        "\n",
        "\n",
        "!mkdir unknown\n",
        "!cp -r /content/drive/MyDrive/unknown /content/\n",
        "\n",
        "\n",
        "def read_img(path):\n",
        "    img = cv2.imread(path)\n",
        "    if img is None:\n",
        "        raise ValueError(f\"Failed to read image at path: {path}\")\n",
        "    h, w, _ = img.shape\n",
        "    width = 500\n",
        "    ratio = width / float(w)\n",
        "    height = int(h * ratio)\n",
        "    return cv2.resize(img, (width, height))\n",
        "\n",
        "known_encodings = []\n",
        "known_names = []\n",
        "known_dir = 'known'\n",
        "\n",
        "for file in os.listdir(known_dir):\n",
        "    img = read_img(os.path.join(known_dir, file))\n",
        "    img_enc = face_recognition.face_encodings(img)[0]\n",
        "    known_encodings.append(img_enc)\n",
        "    known_names.append(file.split('.')[0])\n",
        "unknown_dir = 'unknown'\n",
        "\n",
        "identified_images = []\n",
        "missing_people = []\n",
        "unidentified_images = []\n",
        "\n",
        "# List of expected names\n",
        "expected_names = ['Mike Pence', 'Donald Trump']\n",
        "\n",
        "for file in os.listdir(unknown_dir):\n",
        "    print(\"Processing\", file)\n",
        "    img = read_img(os.path.join(unknown_dir, file))\n",
        "    img_enc = face_recognition.face_encodings(img)[0]\n",
        "\n",
        "    results = face_recognition.compare_faces(known_encodings, img_enc)\n",
        "    identified = False\n",
        "    for i in range(len(results)):\n",
        "        if results[i]:\n",
        "            identified_images.append(known_names[i])\n",
        "            identified = True\n",
        "    if not identified:\n",
        "        unidentified_images.append(file)\n",
        "\n",
        "# Find missing people\n",
        "missing_people = list(set(expected_names) - set(identified_images))\n",
        "\n",
        "# Print the results\n",
        "print(\"Identified Images:\")\n",
        "for name in identified_images:\n",
        "    print(name)\n",
        "\n",
        "print(\"\\nMissing People:\")\n",
        "for name in missing_people:\n",
        "    print(name)\n",
        "\n",
        "print(\"\\nUnidentified Images:\")\n",
        "for image in unidentified_images:\n",
        "    print(image)"
      ]
    },
    {
      "cell_type": "markdown",
      "source": [
        "# 新段落"
      ],
      "metadata": {
        "id": "CClECz6k6525"
      }
    }
  ]
}